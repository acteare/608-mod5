{
 "cells": [
  {
   "cell_type": "code",
   "execution_count": 1,
   "id": "e32ccf06-0e53-4921-a367-93db0485c62b",
   "metadata": {},
   "outputs": [],
   "source": [
    "import pandas as pd"
   ]
  },
  {
   "cell_type": "code",
   "execution_count": 2,
   "id": "897fb007-2780-4ffa-9209-a7f02606f86d",
   "metadata": {},
   "outputs": [],
   "source": [
    "grades = pd.Series([87, 100, 94])"
   ]
  },
  {
   "cell_type": "code",
   "execution_count": 3,
   "id": "a7b3df58-155c-4b96-9b79-fc4627c157b3",
   "metadata": {},
   "outputs": [
    {
     "data": {
      "text/plain": [
       "0     87\n",
       "1    100\n",
       "2     94\n",
       "dtype: int64"
      ]
     },
     "execution_count": 3,
     "metadata": {},
     "output_type": "execute_result"
    }
   ],
   "source": [
    "grades"
   ]
  },
  {
   "cell_type": "code",
   "execution_count": 6,
   "id": "fd5ffd40-8d3d-4c2c-8b58-773e02b1ed26",
   "metadata": {},
   "outputs": [
    {
     "data": {
      "text/plain": [
       "0    98.6\n",
       "1    98.6\n",
       "2    98.6\n",
       "dtype: float64"
      ]
     },
     "execution_count": 6,
     "metadata": {},
     "output_type": "execute_result"
    }
   ],
   "source": [
    "pd.Series(98.6, range(3))"
   ]
  },
  {
   "cell_type": "code",
   "execution_count": 7,
   "id": "d5e709aa-1741-4de6-a5de-ffca11bc5271",
   "metadata": {},
   "outputs": [
    {
     "data": {
      "text/plain": [
       "87"
      ]
     },
     "execution_count": 7,
     "metadata": {},
     "output_type": "execute_result"
    }
   ],
   "source": [
    "grades[0]"
   ]
  },
  {
   "cell_type": "code",
   "execution_count": 8,
   "id": "43b23aa9-9a57-4984-9beb-eb835eed10ba",
   "metadata": {},
   "outputs": [
    {
     "data": {
      "text/plain": [
       "3"
      ]
     },
     "execution_count": 8,
     "metadata": {},
     "output_type": "execute_result"
    }
   ],
   "source": [
    "grades.count()"
   ]
  },
  {
   "cell_type": "code",
   "execution_count": 9,
   "id": "cabea82c-3a40-486c-b8aa-4f63809ef3f2",
   "metadata": {},
   "outputs": [
    {
     "data": {
      "text/plain": [
       "93.66666666666667"
      ]
     },
     "execution_count": 9,
     "metadata": {},
     "output_type": "execute_result"
    }
   ],
   "source": [
    "grades.mean()"
   ]
  },
  {
   "cell_type": "code",
   "execution_count": 10,
   "id": "342f3725-7d81-4147-b697-a13fd6160339",
   "metadata": {},
   "outputs": [
    {
     "data": {
      "text/plain": [
       "87"
      ]
     },
     "execution_count": 10,
     "metadata": {},
     "output_type": "execute_result"
    }
   ],
   "source": [
    "grades.min()"
   ]
  },
  {
   "cell_type": "code",
   "execution_count": 11,
   "id": "7c162dfe-cff7-4868-9cc0-825f106ee7d6",
   "metadata": {},
   "outputs": [
    {
     "data": {
      "text/plain": [
       "100"
      ]
     },
     "execution_count": 11,
     "metadata": {},
     "output_type": "execute_result"
    }
   ],
   "source": [
    "grades.max()"
   ]
  },
  {
   "cell_type": "code",
   "execution_count": 12,
   "id": "5b655a39-3ac1-47a5-b33f-f11def31a85a",
   "metadata": {},
   "outputs": [
    {
     "data": {
      "text/plain": [
       "6.506407098647712"
      ]
     },
     "execution_count": 12,
     "metadata": {},
     "output_type": "execute_result"
    }
   ],
   "source": [
    "grades.std()"
   ]
  },
  {
   "cell_type": "code",
   "execution_count": 13,
   "id": "ec4abda9-4369-4420-ad87-d25a44c0b726",
   "metadata": {},
   "outputs": [
    {
     "data": {
      "text/plain": [
       "count      3.000000\n",
       "mean      93.666667\n",
       "std        6.506407\n",
       "min       87.000000\n",
       "25%       90.500000\n",
       "50%       94.000000\n",
       "75%       97.000000\n",
       "max      100.000000\n",
       "dtype: float64"
      ]
     },
     "execution_count": 13,
     "metadata": {},
     "output_type": "execute_result"
    }
   ],
   "source": [
    "grades.describe()"
   ]
  },
  {
   "cell_type": "code",
   "execution_count": 14,
   "id": "ae505e4e-3f3c-4f94-9577-5c7187ecea2d",
   "metadata": {},
   "outputs": [],
   "source": [
    "grades = pd.Series([87, 100, 94], index=['Wally', 'Eva', 'Sam'])"
   ]
  },
  {
   "cell_type": "code",
   "execution_count": 15,
   "id": "a1666d04-24a0-4614-9b1e-6c9df0e567b7",
   "metadata": {},
   "outputs": [
    {
     "data": {
      "text/plain": [
       "Wally     87\n",
       "Eva      100\n",
       "Sam       94\n",
       "dtype: int64"
      ]
     },
     "execution_count": 15,
     "metadata": {},
     "output_type": "execute_result"
    }
   ],
   "source": [
    "grades"
   ]
  },
  {
   "cell_type": "code",
   "execution_count": 16,
   "id": "a7ba214f-7856-495e-b6dd-cc1c28577267",
   "metadata": {},
   "outputs": [],
   "source": [
    "grades = pd. Series({'Wally': 87, 'Eva': 100, 'Sam': 94})"
   ]
  },
  {
   "cell_type": "code",
   "execution_count": 17,
   "id": "361d1a08-708d-4d1c-b174-afeb56e96b48",
   "metadata": {},
   "outputs": [
    {
     "data": {
      "text/plain": [
       "Wally     87\n",
       "Eva      100\n",
       "Sam       94\n",
       "dtype: int64"
      ]
     },
     "execution_count": 17,
     "metadata": {},
     "output_type": "execute_result"
    }
   ],
   "source": [
    "grades"
   ]
  },
  {
   "cell_type": "code",
   "execution_count": 18,
   "id": "1368f67d-23d0-45cc-bca9-4774434dcef6",
   "metadata": {},
   "outputs": [
    {
     "data": {
      "text/plain": [
       "100"
      ]
     },
     "execution_count": 18,
     "metadata": {},
     "output_type": "execute_result"
    }
   ],
   "source": [
    "grades['Eva']"
   ]
  },
  {
   "cell_type": "code",
   "execution_count": 19,
   "id": "e411c955-c349-4260-9df5-ff45b5ae798e",
   "metadata": {},
   "outputs": [
    {
     "data": {
      "text/plain": [
       "87"
      ]
     },
     "execution_count": 19,
     "metadata": {},
     "output_type": "execute_result"
    }
   ],
   "source": [
    "grades.Wally"
   ]
  },
  {
   "cell_type": "code",
   "execution_count": 20,
   "id": "96271673-13df-429b-bfdc-eefe08dcb056",
   "metadata": {},
   "outputs": [
    {
     "data": {
      "text/plain": [
       "dtype('int64')"
      ]
     },
     "execution_count": 20,
     "metadata": {},
     "output_type": "execute_result"
    }
   ],
   "source": [
    "grades.dtype"
   ]
  },
  {
   "cell_type": "code",
   "execution_count": 21,
   "id": "28d95709-cffb-4ad1-9f4e-5863ce3e3106",
   "metadata": {},
   "outputs": [
    {
     "data": {
      "text/plain": [
       "array([ 87, 100,  94], dtype=int64)"
      ]
     },
     "execution_count": 21,
     "metadata": {},
     "output_type": "execute_result"
    }
   ],
   "source": [
    "grades.values"
   ]
  },
  {
   "cell_type": "code",
   "execution_count": 22,
   "id": "bf46fe18-8111-4f07-8e91-0a149b22ade7",
   "metadata": {},
   "outputs": [],
   "source": [
    "hardware = pd.Series(['Hammer', 'Saw', 'Wrench'])"
   ]
  },
  {
   "cell_type": "code",
   "execution_count": 23,
   "id": "4fdfc838-89fb-4e35-9ee0-efa4c977acbc",
   "metadata": {},
   "outputs": [
    {
     "data": {
      "text/plain": [
       "0    Hammer\n",
       "1       Saw\n",
       "2    Wrench\n",
       "dtype: object"
      ]
     },
     "execution_count": 23,
     "metadata": {},
     "output_type": "execute_result"
    }
   ],
   "source": [
    "hardware"
   ]
  },
  {
   "cell_type": "code",
   "execution_count": 24,
   "id": "995cda28-e18b-4c97-bb12-6971a94682b9",
   "metadata": {},
   "outputs": [
    {
     "data": {
      "text/plain": [
       "0     True\n",
       "1     True\n",
       "2    False\n",
       "dtype: bool"
      ]
     },
     "execution_count": 24,
     "metadata": {},
     "output_type": "execute_result"
    }
   ],
   "source": [
    "hardware.str.contains('a')"
   ]
  },
  {
   "cell_type": "code",
   "execution_count": 25,
   "id": "79b36032-a58d-42d9-a5e1-07870e898149",
   "metadata": {},
   "outputs": [
    {
     "data": {
      "text/plain": [
       "0    HAMMER\n",
       "1       SAW\n",
       "2    WRENCH\n",
       "dtype: object"
      ]
     },
     "execution_count": 25,
     "metadata": {},
     "output_type": "execute_result"
    }
   ],
   "source": [
    "hardware.str.upper()"
   ]
  },
  {
   "cell_type": "code",
   "execution_count": null,
   "id": "ba92c549-a668-4221-b319-bdb0f51fdf7c",
   "metadata": {},
   "outputs": [],
   "source": [
    "Amelia Teare"
   ]
  }
 ],
 "metadata": {
  "kernelspec": {
   "display_name": "Python 3 (ipykernel)",
   "language": "python",
   "name": "python3"
  },
  "language_info": {
   "codemirror_mode": {
    "name": "ipython",
    "version": 3
   },
   "file_extension": ".py",
   "mimetype": "text/x-python",
   "name": "python",
   "nbconvert_exporter": "python",
   "pygments_lexer": "ipython3",
   "version": "3.9.12"
  }
 },
 "nbformat": 4,
 "nbformat_minor": 5
}
